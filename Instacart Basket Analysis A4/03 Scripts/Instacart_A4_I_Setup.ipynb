{
 "cells": [
  {
   "cell_type": "markdown",
   "id": "6ae3e923",
   "metadata": {},
   "source": [
    "# A4 Instacart"
   ]
  },
  {
   "cell_type": "markdown",
   "id": "b06f6132",
   "metadata": {},
   "source": [
    "## Contents"
   ]
  },
  {
   "cell_type": "markdown",
   "id": "aa27a311",
   "metadata": {},
   "source": [
    "#### Libraries and Import\n",
    "\n",
    "#### Security Concerns\n",
    "-Removing Name column\n",
    "\n",
    "#### Geographic Regions  \n",
    "-Add a new variable with regional categories based on the States column  \n",
    "-https://simple.wikipedia.org/wiki/List_of_regions_of_the_United_States  \n",
    "-Cross region with spending to determine any geographic trends\n",
    "\n",
    "#### Low-activity Exclusion  \n",
    "-Create a flag for low order volume  \n",
    "-Export dataset of only \"active\" customers  \n",
    "\n",
    "\n",
    "\n"
   ]
  },
  {
   "cell_type": "markdown",
   "id": "7e1b2ca5",
   "metadata": {},
   "source": []
  },
  {
   "cell_type": "markdown",
   "id": "71cc382b",
   "metadata": {},
   "source": [
    "### Libraries"
   ]
  },
  {
   "cell_type": "code",
   "execution_count": 1,
   "id": "4ff7aa57",
   "metadata": {},
   "outputs": [],
   "source": [
    "import pandas as pd\n",
    "import numpy as np\n",
    "import os\n",
    "import matplotlib.pyplot as plt\n",
    "import seaborn as sns\n",
    "import scipy\n",
    "from scipy import stats"
   ]
  },
  {
   "cell_type": "code",
   "execution_count": 3,
   "id": "a9b7d6d2",
   "metadata": {},
   "outputs": [],
   "source": [
    "# Our dataframe is pretty wide. \n",
    "pd.set_option(\"display.max_columns\", None)"
   ]
  },
  {
   "cell_type": "markdown",
   "id": "c4fb349f",
   "metadata": {},
   "source": [
    "### Import (+ data cleaning from 4.9)"
   ]
  },
  {
   "cell_type": "code",
   "execution_count": 2,
   "id": "296ce359",
   "metadata": {},
   "outputs": [],
   "source": [
    "# Path variable to our project folder\n",
    "path = r'D:\\2021 CareerFoundry Course\\Immersion\\Instacart Basket Analysis A4'"
   ]
  },
  {
   "cell_type": "code",
   "execution_count": 3,
   "id": "98b8b36a",
   "metadata": {},
   "outputs": [],
   "source": [
    "# Read pickle file to df\n",
    "ords_prods_cust = pd.read_pickle(os.path.join(path, '02 Data', 'Processed', 'ords_prods_cust_merge2.pkl'))"
   ]
  },
  {
   "cell_type": "code",
   "execution_count": 5,
   "id": "fe00832e",
   "metadata": {},
   "outputs": [
    {
     "name": "stdout",
     "output_type": "stream",
     "text": [
      "<class 'pandas.core.frame.DataFrame'>\n",
      "Int64Index: 32404859 entries, 0 to 32404858\n",
      "Data columns (total 33 columns):\n",
      " #   Column                        Dtype   \n",
      "---  ------                        -----   \n",
      " 0   order_id                      int32   \n",
      " 1   user_id                       int32   \n",
      " 2   order_number                  int8    \n",
      " 3   orders_day_of_week            int8    \n",
      " 4   order_hour_of_day             int8    \n",
      " 5   days_since_user_last_ordered  float16 \n",
      " 6   Repeat_orders                 bool    \n",
      " 7   product_id                    int32   \n",
      " 8   add_to_cart_order             int32   \n",
      " 9   reordered                     int32   \n",
      " 10  product_name                  object  \n",
      " 11  aisle_id                      int8    \n",
      " 12  department_id                 int8    \n",
      " 13  prices                        float64 \n",
      " 14  price_range_loc               object  \n",
      " 15  busiest_day                   object  \n",
      " 16  busiest_days                  object  \n",
      " 17  busiest_hour                  object  \n",
      " 18  max_order                     int32   \n",
      " 19  loyalty_flag                  object  \n",
      " 20  mean_price                    float16 \n",
      " 21  spend_flag                    object  \n",
      " 22  median_freq                   float16 \n",
      " 23  order_freq_flag               object  \n",
      " 24  gender                        object  \n",
      " 25  state                         object  \n",
      " 26  age                           int8    \n",
      " 27  date_joined                   object  \n",
      " 28  n_dependants                  int8    \n",
      " 29  fam_status                    object  \n",
      " 30  income                        int64   \n",
      " 31  name                          object  \n",
      " 32  _merge                        category\n",
      "dtypes: bool(1), category(1), float16(3), float64(1), int32(6), int64(1), int8(7), object(13)\n",
      "memory usage: 5.0+ GB\n"
     ]
    }
   ],
   "source": [
    "# View df\n",
    "ords_prods_cust.info()"
   ]
  },
  {
   "cell_type": "markdown",
   "id": "1010c960",
   "metadata": {},
   "source": [
    "We also need to clean up the outlier prices that were identified in 4.8/9"
   ]
  },
  {
   "cell_type": "code",
   "execution_count": null,
   "id": "2a55c292",
   "metadata": {},
   "outputs": [],
   "source": [
    "ords_prods_cust.loc[ords_prods_cust['prices'] >100, 'prices'] = np.nan"
   ]
  },
  {
   "cell_type": "markdown",
   "id": "65983199",
   "metadata": {},
   "source": [
    "### Security/PID \n",
    "We will need to remove the name column for sure. There are no emails, phone numbers or addresses in the data. That said with the rest combined, I think there is a reasonable assumption that someone's identity could be figured out. I don't think I can really address that, since I need most of those datapoints, but it is worth mentioning."
   ]
  },
  {
   "cell_type": "code",
   "execution_count": 6,
   "id": "d333be1d",
   "metadata": {},
   "outputs": [],
   "source": [
    "# Remove the Name column\n",
    "ords_prods_cust.drop(columns = ['name'], inplace = True)"
   ]
  },
  {
   "cell_type": "markdown",
   "id": "0c70b307",
   "metadata": {},
   "source": [
    "### Geographic Regions"
   ]
  },
  {
   "cell_type": "code",
   "execution_count": 8,
   "id": "961eee7b",
   "metadata": {},
   "outputs": [],
   "source": [
    "# Defining function \"region_label\"\n",
    "# This looks at the state column and assigns a regional category (Northeast, Midwest, South, West) \n",
    "# based on the contents.\n",
    "def region_label(row):\n",
    "\n",
    "  if row['state'] in ['Maine', 'New Hampshire','Vermont','Massachusetts','Rhode Island','Connecticut',\n",
    "                    'New York', 'Pennsylvania', 'New Jersey']:\n",
    "    return 'Northeast'\n",
    "  elif row['state'] in ['North Dakota', 'South Dakota', 'Nebraska', 'Kansas', 'Minnesota', 'Iowa',\n",
    "                         'Missouri', 'Wisconsin', 'Michigan', 'Illinois', 'Indiana', 'Ohio']:\n",
    "    return 'Midwest'\n",
    "  elif row['state'] in ['Oklahoma', 'Texas', 'Arkansas', 'Louisiana', 'Kentucky', 'Tennessee', 'Mississippi',\n",
    "                        'Alabama', 'Delaware', 'Maryland', 'District of Columbia', 'Virginia', \n",
    "                        'West Virginia', 'North Carolina', 'South Carolina', 'Georgia', 'Florida']:\n",
    "    return 'South'\n",
    "  elif row['state'] in ['Idaho', 'Montana', 'Wyoming', 'Nevada', 'Utah', 'Colorado', 'Arizona', 'New Mexico',\n",
    "                       'Alaska', 'Washington', 'Oregon', 'California', 'Hawaii']:\n",
    "    return 'West'\n",
    "  else: return 'Not enough data'"
   ]
  },
  {
   "cell_type": "code",
   "execution_count": 10,
   "id": "4bcc9b66",
   "metadata": {},
   "outputs": [],
   "source": [
    "ords_prods_cust['region'] = ords_prods_cust.apply(region_label, axis = 1)"
   ]
  },
  {
   "cell_type": "code",
   "execution_count": 11,
   "id": "f6d6cb68",
   "metadata": {},
   "outputs": [
    {
     "data": {
      "text/plain": [
       "South        10791885\n",
       "West          8292913\n",
       "Midwest       7597325\n",
       "Northeast     5722736\n",
       "Name: region, dtype: int64"
      ]
     },
     "execution_count": 11,
     "metadata": {},
     "output_type": "execute_result"
    }
   ],
   "source": [
    "ords_prods_cust['region'].value_counts()"
   ]
  },
  {
   "cell_type": "markdown",
   "id": "88402278",
   "metadata": {},
   "source": [
    "#### Crossing region w/ spending flag"
   ]
  },
  {
   "cell_type": "code",
   "execution_count": 9,
   "id": "431ccdc0",
   "metadata": {},
   "outputs": [
    {
     "data": {
      "text/html": [
       "<div>\n",
       "<style scoped>\n",
       "    .dataframe tbody tr th:only-of-type {\n",
       "        vertical-align: middle;\n",
       "    }\n",
       "\n",
       "    .dataframe tbody tr th {\n",
       "        vertical-align: top;\n",
       "    }\n",
       "\n",
       "    .dataframe thead th {\n",
       "        text-align: right;\n",
       "    }\n",
       "</style>\n",
       "<table border=\"1\" class=\"dataframe\">\n",
       "  <thead>\n",
       "    <tr style=\"text-align: right;\">\n",
       "      <th>region</th>\n",
       "      <th>Midwest</th>\n",
       "      <th>Northeast</th>\n",
       "      <th>South</th>\n",
       "      <th>West</th>\n",
       "    </tr>\n",
       "    <tr>\n",
       "      <th>spend_flag</th>\n",
       "      <th></th>\n",
       "      <th></th>\n",
       "      <th></th>\n",
       "      <th></th>\n",
       "    </tr>\n",
       "  </thead>\n",
       "  <tbody>\n",
       "    <tr>\n",
       "      <th>High</th>\n",
       "      <td>155975</td>\n",
       "      <td>108225</td>\n",
       "      <td>209691</td>\n",
       "      <td>160354</td>\n",
       "    </tr>\n",
       "    <tr>\n",
       "      <th>Low</th>\n",
       "      <td>7441350</td>\n",
       "      <td>5614511</td>\n",
       "      <td>10582194</td>\n",
       "      <td>8132559</td>\n",
       "    </tr>\n",
       "  </tbody>\n",
       "</table>\n",
       "</div>"
      ],
      "text/plain": [
       "region      Midwest  Northeast     South     West\n",
       "spend_flag                                       \n",
       "High         155975     108225    209691   160354\n",
       "Low         7441350    5614511  10582194  8132559"
      ]
     },
     "execution_count": 9,
     "metadata": {},
     "output_type": "execute_result"
    }
   ],
   "source": [
    "# Creating the crosstab to count spending categories by region.\n",
    "# This could be exported to Excel and either reported on, or made into an Excel pivot report\n",
    "crosstab = pd.crosstab(ords_prods_cust['spend_flag'], ords_prods_cust['region'],\n",
    "                       dropna = False)\n",
    "crosstab"
   ]
  },
  {
   "cell_type": "code",
   "execution_count": 10,
   "id": "b004316e",
   "metadata": {},
   "outputs": [
    {
     "data": {
      "text/plain": [
       "2.0960578389673916"
      ]
     },
     "execution_count": 10,
     "metadata": {},
     "output_type": "execute_result"
    }
   ],
   "source": [
    "# Midwest Spend ratio (high:low) percentage\n",
    "(155975/7441350)*100"
   ]
  },
  {
   "cell_type": "code",
   "execution_count": 11,
   "id": "feaecc72",
   "metadata": {},
   "outputs": [
    {
     "data": {
      "text/plain": [
       "1.927594406707904"
      ]
     },
     "execution_count": 11,
     "metadata": {},
     "output_type": "execute_result"
    }
   ],
   "source": [
    "# Northeast Spend ratio (high:low) percentage\n",
    "(108225/5614511)*100"
   ]
  },
  {
   "cell_type": "code",
   "execution_count": 12,
   "id": "de6f03b0",
   "metadata": {},
   "outputs": [
    {
     "data": {
      "text/plain": [
       "1.9815456038700483"
      ]
     },
     "execution_count": 12,
     "metadata": {},
     "output_type": "execute_result"
    }
   ],
   "source": [
    "# South Spend ratio (high:low) percentage\n",
    "(209691/10582194)*100"
   ]
  },
  {
   "cell_type": "code",
   "execution_count": 13,
   "id": "bbe49f06",
   "metadata": {},
   "outputs": [
    {
     "data": {
      "text/plain": [
       "1.9717532943812641"
      ]
     },
     "execution_count": 13,
     "metadata": {},
     "output_type": "execute_result"
    }
   ],
   "source": [
    "# West Spend ratio (high:low) percentage\n",
    "(160354/8132559)*100"
   ]
  },
  {
   "cell_type": "markdown",
   "id": "a9794fb2",
   "metadata": {},
   "source": [
    "These all seem fairly similar, but the midwest has a *SLIGHTLY* higher spending ratio. But it's pretty small, roughly 0.1%. I'm not sure that would stand up as significant in statistical tests, but our sample is pretty large."
   ]
  },
  {
   "cell_type": "markdown",
   "id": "e95a5033",
   "metadata": {},
   "source": [
    "#### Low-Activity Exclusion Flag"
   ]
  },
  {
   "cell_type": "code",
   "execution_count": 4,
   "id": "35ba3a29",
   "metadata": {},
   "outputs": [],
   "source": [
    "# Customers to be included\n",
    "ords_prods_cust.loc[ords_prods_cust['max_order'] >= 5, 'exclusion_flag'] = 'Active'"
   ]
  },
  {
   "cell_type": "code",
   "execution_count": 5,
   "id": "9151b93a",
   "metadata": {},
   "outputs": [],
   "source": [
    "# Disinclude customers with less than 5 orders\n",
    "ords_prods_cust.loc[ords_prods_cust['max_order'] < 5, 'exclusion_flag'] = 'Inactive'"
   ]
  },
  {
   "cell_type": "code",
   "execution_count": 6,
   "id": "425e9da2",
   "metadata": {},
   "outputs": [
    {
     "data": {
      "text/plain": [
       "Active      30964564\n",
       "Inactive     1440295\n",
       "Name: exclusion_flag, dtype: int64"
      ]
     },
     "execution_count": 6,
     "metadata": {},
     "output_type": "execute_result"
    }
   ],
   "source": [
    "ords_prods_cust['exclusion_flag'].value_counts()"
   ]
  },
  {
   "cell_type": "code",
   "execution_count": 16,
   "id": "60f9bc51",
   "metadata": {},
   "outputs": [
    {
     "data": {
      "text/html": [
       "<div>\n",
       "<style scoped>\n",
       "    .dataframe tbody tr th:only-of-type {\n",
       "        vertical-align: middle;\n",
       "    }\n",
       "\n",
       "    .dataframe tbody tr th {\n",
       "        vertical-align: top;\n",
       "    }\n",
       "\n",
       "    .dataframe thead th {\n",
       "        text-align: right;\n",
       "    }\n",
       "</style>\n",
       "<table border=\"1\" class=\"dataframe\">\n",
       "  <thead>\n",
       "    <tr style=\"text-align: right;\">\n",
       "      <th></th>\n",
       "      <th>order_id</th>\n",
       "      <th>user_id</th>\n",
       "      <th>order_number</th>\n",
       "      <th>orders_day_of_week</th>\n",
       "      <th>order_hour_of_day</th>\n",
       "      <th>days_since_user_last_ordered</th>\n",
       "      <th>Repeat_orders</th>\n",
       "      <th>product_id</th>\n",
       "      <th>add_to_cart_order</th>\n",
       "      <th>reordered</th>\n",
       "      <th>product_name</th>\n",
       "      <th>aisle_id</th>\n",
       "      <th>department_id</th>\n",
       "      <th>prices</th>\n",
       "      <th>price_range_loc</th>\n",
       "      <th>busiest_day</th>\n",
       "      <th>busiest_days</th>\n",
       "      <th>busiest_hour</th>\n",
       "      <th>max_order</th>\n",
       "      <th>loyalty_flag</th>\n",
       "      <th>mean_price</th>\n",
       "      <th>spend_flag</th>\n",
       "      <th>median_freq</th>\n",
       "      <th>order_freq_flag</th>\n",
       "      <th>gender</th>\n",
       "      <th>state</th>\n",
       "      <th>age</th>\n",
       "      <th>date_joined</th>\n",
       "      <th>n_dependants</th>\n",
       "      <th>fam_status</th>\n",
       "      <th>income</th>\n",
       "      <th>_merge</th>\n",
       "      <th>region</th>\n",
       "      <th>exclusion_flag</th>\n",
       "    </tr>\n",
       "  </thead>\n",
       "  <tbody>\n",
       "    <tr>\n",
       "      <th>0</th>\n",
       "      <td>2539329</td>\n",
       "      <td>1</td>\n",
       "      <td>1</td>\n",
       "      <td>2</td>\n",
       "      <td>8</td>\n",
       "      <td>NaN</td>\n",
       "      <td>False</td>\n",
       "      <td>196</td>\n",
       "      <td>1</td>\n",
       "      <td>0</td>\n",
       "      <td>Soda</td>\n",
       "      <td>77</td>\n",
       "      <td>7</td>\n",
       "      <td>9.0</td>\n",
       "      <td>Mid</td>\n",
       "      <td>Regularly busy</td>\n",
       "      <td>Regular days</td>\n",
       "      <td>Average</td>\n",
       "      <td>10</td>\n",
       "      <td>New customer</td>\n",
       "      <td>6.367188</td>\n",
       "      <td>Low</td>\n",
       "      <td>20.5</td>\n",
       "      <td>Low</td>\n",
       "      <td>Female</td>\n",
       "      <td>Alabama</td>\n",
       "      <td>31</td>\n",
       "      <td>2/17/2019</td>\n",
       "      <td>3</td>\n",
       "      <td>married</td>\n",
       "      <td>40423</td>\n",
       "      <td>both</td>\n",
       "      <td>South</td>\n",
       "      <td>Active</td>\n",
       "    </tr>\n",
       "    <tr>\n",
       "      <th>1</th>\n",
       "      <td>2398795</td>\n",
       "      <td>1</td>\n",
       "      <td>2</td>\n",
       "      <td>3</td>\n",
       "      <td>7</td>\n",
       "      <td>15.0</td>\n",
       "      <td>True</td>\n",
       "      <td>196</td>\n",
       "      <td>1</td>\n",
       "      <td>1</td>\n",
       "      <td>Soda</td>\n",
       "      <td>77</td>\n",
       "      <td>7</td>\n",
       "      <td>9.0</td>\n",
       "      <td>Mid</td>\n",
       "      <td>Regularly busy</td>\n",
       "      <td>Slowest days</td>\n",
       "      <td>Average</td>\n",
       "      <td>10</td>\n",
       "      <td>New customer</td>\n",
       "      <td>6.367188</td>\n",
       "      <td>Low</td>\n",
       "      <td>20.5</td>\n",
       "      <td>Low</td>\n",
       "      <td>Female</td>\n",
       "      <td>Alabama</td>\n",
       "      <td>31</td>\n",
       "      <td>2/17/2019</td>\n",
       "      <td>3</td>\n",
       "      <td>married</td>\n",
       "      <td>40423</td>\n",
       "      <td>both</td>\n",
       "      <td>South</td>\n",
       "      <td>Active</td>\n",
       "    </tr>\n",
       "    <tr>\n",
       "      <th>2</th>\n",
       "      <td>473747</td>\n",
       "      <td>1</td>\n",
       "      <td>3</td>\n",
       "      <td>3</td>\n",
       "      <td>12</td>\n",
       "      <td>21.0</td>\n",
       "      <td>True</td>\n",
       "      <td>196</td>\n",
       "      <td>1</td>\n",
       "      <td>1</td>\n",
       "      <td>Soda</td>\n",
       "      <td>77</td>\n",
       "      <td>7</td>\n",
       "      <td>9.0</td>\n",
       "      <td>Mid</td>\n",
       "      <td>Regularly busy</td>\n",
       "      <td>Slowest days</td>\n",
       "      <td>Busy</td>\n",
       "      <td>10</td>\n",
       "      <td>New customer</td>\n",
       "      <td>6.367188</td>\n",
       "      <td>Low</td>\n",
       "      <td>20.5</td>\n",
       "      <td>Low</td>\n",
       "      <td>Female</td>\n",
       "      <td>Alabama</td>\n",
       "      <td>31</td>\n",
       "      <td>2/17/2019</td>\n",
       "      <td>3</td>\n",
       "      <td>married</td>\n",
       "      <td>40423</td>\n",
       "      <td>both</td>\n",
       "      <td>South</td>\n",
       "      <td>Active</td>\n",
       "    </tr>\n",
       "    <tr>\n",
       "      <th>3</th>\n",
       "      <td>2254736</td>\n",
       "      <td>1</td>\n",
       "      <td>4</td>\n",
       "      <td>4</td>\n",
       "      <td>7</td>\n",
       "      <td>29.0</td>\n",
       "      <td>True</td>\n",
       "      <td>196</td>\n",
       "      <td>1</td>\n",
       "      <td>1</td>\n",
       "      <td>Soda</td>\n",
       "      <td>77</td>\n",
       "      <td>7</td>\n",
       "      <td>9.0</td>\n",
       "      <td>Mid</td>\n",
       "      <td>Least busy</td>\n",
       "      <td>Slowest days</td>\n",
       "      <td>Average</td>\n",
       "      <td>10</td>\n",
       "      <td>New customer</td>\n",
       "      <td>6.367188</td>\n",
       "      <td>Low</td>\n",
       "      <td>20.5</td>\n",
       "      <td>Low</td>\n",
       "      <td>Female</td>\n",
       "      <td>Alabama</td>\n",
       "      <td>31</td>\n",
       "      <td>2/17/2019</td>\n",
       "      <td>3</td>\n",
       "      <td>married</td>\n",
       "      <td>40423</td>\n",
       "      <td>both</td>\n",
       "      <td>South</td>\n",
       "      <td>Active</td>\n",
       "    </tr>\n",
       "    <tr>\n",
       "      <th>4</th>\n",
       "      <td>431534</td>\n",
       "      <td>1</td>\n",
       "      <td>5</td>\n",
       "      <td>4</td>\n",
       "      <td>15</td>\n",
       "      <td>28.0</td>\n",
       "      <td>True</td>\n",
       "      <td>196</td>\n",
       "      <td>1</td>\n",
       "      <td>1</td>\n",
       "      <td>Soda</td>\n",
       "      <td>77</td>\n",
       "      <td>7</td>\n",
       "      <td>9.0</td>\n",
       "      <td>Mid</td>\n",
       "      <td>Least busy</td>\n",
       "      <td>Slowest days</td>\n",
       "      <td>Busy</td>\n",
       "      <td>10</td>\n",
       "      <td>New customer</td>\n",
       "      <td>6.367188</td>\n",
       "      <td>Low</td>\n",
       "      <td>20.5</td>\n",
       "      <td>Low</td>\n",
       "      <td>Female</td>\n",
       "      <td>Alabama</td>\n",
       "      <td>31</td>\n",
       "      <td>2/17/2019</td>\n",
       "      <td>3</td>\n",
       "      <td>married</td>\n",
       "      <td>40423</td>\n",
       "      <td>both</td>\n",
       "      <td>South</td>\n",
       "      <td>Active</td>\n",
       "    </tr>\n",
       "  </tbody>\n",
       "</table>\n",
       "</div>"
      ],
      "text/plain": [
       "   order_id  user_id  order_number  orders_day_of_week  order_hour_of_day  \\\n",
       "0   2539329        1             1                   2                  8   \n",
       "1   2398795        1             2                   3                  7   \n",
       "2    473747        1             3                   3                 12   \n",
       "3   2254736        1             4                   4                  7   \n",
       "4    431534        1             5                   4                 15   \n",
       "\n",
       "   days_since_user_last_ordered  Repeat_orders  product_id  add_to_cart_order  \\\n",
       "0                           NaN          False         196                  1   \n",
       "1                          15.0           True         196                  1   \n",
       "2                          21.0           True         196                  1   \n",
       "3                          29.0           True         196                  1   \n",
       "4                          28.0           True         196                  1   \n",
       "\n",
       "   reordered product_name  aisle_id  department_id  prices price_range_loc  \\\n",
       "0          0         Soda        77              7     9.0             Mid   \n",
       "1          1         Soda        77              7     9.0             Mid   \n",
       "2          1         Soda        77              7     9.0             Mid   \n",
       "3          1         Soda        77              7     9.0             Mid   \n",
       "4          1         Soda        77              7     9.0             Mid   \n",
       "\n",
       "      busiest_day  busiest_days busiest_hour  max_order  loyalty_flag  \\\n",
       "0  Regularly busy  Regular days      Average         10  New customer   \n",
       "1  Regularly busy  Slowest days      Average         10  New customer   \n",
       "2  Regularly busy  Slowest days         Busy         10  New customer   \n",
       "3      Least busy  Slowest days      Average         10  New customer   \n",
       "4      Least busy  Slowest days         Busy         10  New customer   \n",
       "\n",
       "   mean_price spend_flag  median_freq order_freq_flag  gender    state  age  \\\n",
       "0    6.367188        Low         20.5             Low  Female  Alabama   31   \n",
       "1    6.367188        Low         20.5             Low  Female  Alabama   31   \n",
       "2    6.367188        Low         20.5             Low  Female  Alabama   31   \n",
       "3    6.367188        Low         20.5             Low  Female  Alabama   31   \n",
       "4    6.367188        Low         20.5             Low  Female  Alabama   31   \n",
       "\n",
       "  date_joined  n_dependants fam_status  income _merge region exclusion_flag  \n",
       "0   2/17/2019             3    married   40423   both  South         Active  \n",
       "1   2/17/2019             3    married   40423   both  South         Active  \n",
       "2   2/17/2019             3    married   40423   both  South         Active  \n",
       "3   2/17/2019             3    married   40423   both  South         Active  \n",
       "4   2/17/2019             3    married   40423   both  South         Active  "
      ]
     },
     "execution_count": 16,
     "metadata": {},
     "output_type": "execute_result"
    }
   ],
   "source": [
    "ords_prods_cust.head()"
   ]
  },
  {
   "cell_type": "markdown",
   "id": "b6bf9d99",
   "metadata": {},
   "source": [
    "#### Exclude Inactive Customers"
   ]
  },
  {
   "cell_type": "code",
   "execution_count": 64,
   "id": "70fb2b60",
   "metadata": {},
   "outputs": [],
   "source": [
    "# Create a sample which only includes Active customers based on exclusion tag\n",
    "ords_active_only = ords_prods_cust.loc[ords_prods_cust['exclusion_flag'] == 'Active']"
   ]
  },
  {
   "cell_type": "code",
   "execution_count": 62,
   "id": "90cee6c8",
   "metadata": {},
   "outputs": [
    {
     "data": {
      "text/plain": [
       "(30964564, 39)"
      ]
     },
     "execution_count": 62,
     "metadata": {},
     "output_type": "execute_result"
    }
   ],
   "source": [
    "# We dropped around 2 million rows\n",
    "ords_active_only.shape"
   ]
  },
  {
   "cell_type": "code",
   "execution_count": 5,
   "id": "80c0475f",
   "metadata": {
    "scrolled": true
   },
   "outputs": [
    {
     "ename": "NameError",
     "evalue": "name 'ords_active_only' is not defined",
     "output_type": "error",
     "traceback": [
      "\u001b[1;31m---------------------------------------------------------------------------\u001b[0m",
      "\u001b[1;31mNameError\u001b[0m                                 Traceback (most recent call last)",
      "\u001b[1;32m~\\AppData\\Local\\Temp/ipykernel_4772/613930263.py\u001b[0m in \u001b[0;36m<module>\u001b[1;34m\u001b[0m\n\u001b[1;32m----> 1\u001b[1;33m \u001b[0mords_active_only\u001b[0m\u001b[1;33m.\u001b[0m\u001b[0mto_pickle\u001b[0m\u001b[1;33m(\u001b[0m\u001b[0mos\u001b[0m\u001b[1;33m.\u001b[0m\u001b[0mpath\u001b[0m\u001b[1;33m.\u001b[0m\u001b[0mjoin\u001b[0m\u001b[1;33m(\u001b[0m\u001b[0mpath\u001b[0m\u001b[1;33m,\u001b[0m \u001b[1;34m'02 Data'\u001b[0m\u001b[1;33m,\u001b[0m \u001b[1;34m'Processed'\u001b[0m\u001b[1;33m,\u001b[0m \u001b[1;34m'ords_active_sample_cleaned.pkl'\u001b[0m\u001b[1;33m)\u001b[0m\u001b[1;33m)\u001b[0m\u001b[1;33m\u001b[0m\u001b[1;33m\u001b[0m\u001b[0m\n\u001b[0m",
      "\u001b[1;31mNameError\u001b[0m: name 'ords_active_only' is not defined"
     ]
    }
   ],
   "source": [
    "ords_active_only.to_pickle(os.path.join(path, '02 Data', 'Processed', 'ords_active_sample_cleaned.pkl'))"
   ]
  }
 ],
 "metadata": {
  "kernelspec": {
   "display_name": "Python 3 (ipykernel)",
   "language": "python",
   "name": "python3"
  },
  "language_info": {
   "codemirror_mode": {
    "name": "ipython",
    "version": 3
   },
   "file_extension": ".py",
   "mimetype": "text/x-python",
   "name": "python",
   "nbconvert_exporter": "python",
   "pygments_lexer": "ipython3",
   "version": "3.9.7"
  }
 },
 "nbformat": 4,
 "nbformat_minor": 5
}
