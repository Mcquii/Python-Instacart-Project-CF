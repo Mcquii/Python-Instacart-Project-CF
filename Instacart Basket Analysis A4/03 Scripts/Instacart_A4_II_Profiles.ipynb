{
 "cells": [
  {
   "cell_type": "markdown",
   "id": "41ea42a8",
   "metadata": {},
   "source": [
    "# A4 Instacart Pt. II"
   ]
  },
  {
   "cell_type": "markdown",
   "id": "9750af50",
   "metadata": {},
   "source": [
    "# Contents\n",
    "#### Import\n",
    "#### Profiling Variables\n",
    "-Create flag columns for use in customer profiles or direct analytics   \n",
    "-Pet ownership (separate flag column from main profiles)  \n",
    "-Customer profiles (age, income, # dependants)  \n",
    "#### Create Customer Profiles\n",
    "-Concatenate profile flags to form full profile variable  \n",
    "-Cutoff (2 million orders) with profiles below being reassigned to \"Default\"  \n",
    "-Exploratory descriptive stats on customer profiles  "
   ]
  },
  {
   "cell_type": "markdown",
   "id": "527ea2dc",
   "metadata": {},
   "source": [
    "## Import"
   ]
  },
  {
   "cell_type": "code",
   "execution_count": 1,
   "id": "692678b5",
   "metadata": {},
   "outputs": [],
   "source": [
    "import pandas as pd\n",
    "import numpy as np\n",
    "import os\n",
    "import matplotlib.pyplot as plt\n",
    "import seaborn as sns\n",
    "import scipy\n",
    "from scipy import stats"
   ]
  },
  {
   "cell_type": "code",
   "execution_count": 2,
   "id": "ef65ab84",
   "metadata": {},
   "outputs": [],
   "source": [
    "# Our dataframe is pretty wide. \n",
    "pd.set_option(\"display.max_columns\", None)"
   ]
  },
  {
   "cell_type": "code",
   "execution_count": 4,
   "id": "070a8ddc",
   "metadata": {},
   "outputs": [],
   "source": [
    "# Path variable to our project folder\n",
    "path = r'D:\\2021 CareerFoundry Course\\Immersion\\Instacart Basket Analysis A4'"
   ]
  },
  {
   "cell_type": "code",
   "execution_count": 5,
   "id": "044115fa",
   "metadata": {},
   "outputs": [],
   "source": [
    "# Read pickle file to df\n",
    "ords_active_only = pd.read_pickle(os.path.join(path, '02 Data', 'Processed', 'ords_active_sample_cleaned.pkl'))"
   ]
  },
  {
   "cell_type": "code",
   "execution_count": 6,
   "id": "026702be",
   "metadata": {},
   "outputs": [
    {
     "data": {
      "text/html": [
       "<div>\n",
       "<style scoped>\n",
       "    .dataframe tbody tr th:only-of-type {\n",
       "        vertical-align: middle;\n",
       "    }\n",
       "\n",
       "    .dataframe tbody tr th {\n",
       "        vertical-align: top;\n",
       "    }\n",
       "\n",
       "    .dataframe thead th {\n",
       "        text-align: right;\n",
       "    }\n",
       "</style>\n",
       "<table border=\"1\" class=\"dataframe\">\n",
       "  <thead>\n",
       "    <tr style=\"text-align: right;\">\n",
       "      <th></th>\n",
       "      <th>order_id</th>\n",
       "      <th>user_id</th>\n",
       "      <th>order_number</th>\n",
       "      <th>orders_day_of_week</th>\n",
       "      <th>order_hour_of_day</th>\n",
       "      <th>days_since_user_last_ordered</th>\n",
       "      <th>Repeat_orders</th>\n",
       "      <th>product_id</th>\n",
       "      <th>add_to_cart_order</th>\n",
       "      <th>reordered</th>\n",
       "      <th>product_name</th>\n",
       "      <th>aisle_id</th>\n",
       "      <th>department_id</th>\n",
       "      <th>prices</th>\n",
       "      <th>price_range_loc</th>\n",
       "      <th>busiest_day</th>\n",
       "      <th>busiest_days</th>\n",
       "      <th>busiest_hour</th>\n",
       "      <th>max_order</th>\n",
       "      <th>loyalty_flag</th>\n",
       "      <th>mean_price</th>\n",
       "      <th>spend_flag</th>\n",
       "      <th>median_freq</th>\n",
       "      <th>order_freq_flag</th>\n",
       "      <th>gender</th>\n",
       "      <th>state</th>\n",
       "      <th>age</th>\n",
       "      <th>date_joined</th>\n",
       "      <th>n_dependants</th>\n",
       "      <th>fam_status</th>\n",
       "      <th>income</th>\n",
       "      <th>_merge</th>\n",
       "      <th>region</th>\n",
       "      <th>exclusion_flag</th>\n",
       "    </tr>\n",
       "  </thead>\n",
       "  <tbody>\n",
       "    <tr>\n",
       "      <th>0</th>\n",
       "      <td>2539329</td>\n",
       "      <td>1</td>\n",
       "      <td>1</td>\n",
       "      <td>2</td>\n",
       "      <td>8</td>\n",
       "      <td>NaN</td>\n",
       "      <td>False</td>\n",
       "      <td>196</td>\n",
       "      <td>1</td>\n",
       "      <td>0</td>\n",
       "      <td>Soda</td>\n",
       "      <td>77</td>\n",
       "      <td>7</td>\n",
       "      <td>9.0</td>\n",
       "      <td>Mid</td>\n",
       "      <td>Regularly busy</td>\n",
       "      <td>Regular days</td>\n",
       "      <td>Average</td>\n",
       "      <td>10</td>\n",
       "      <td>New customer</td>\n",
       "      <td>6.367188</td>\n",
       "      <td>Low</td>\n",
       "      <td>20.5</td>\n",
       "      <td>Low</td>\n",
       "      <td>Female</td>\n",
       "      <td>Alabama</td>\n",
       "      <td>31</td>\n",
       "      <td>2/17/2019</td>\n",
       "      <td>3</td>\n",
       "      <td>married</td>\n",
       "      <td>40423</td>\n",
       "      <td>both</td>\n",
       "      <td>South</td>\n",
       "      <td>Active</td>\n",
       "    </tr>\n",
       "    <tr>\n",
       "      <th>1</th>\n",
       "      <td>2398795</td>\n",
       "      <td>1</td>\n",
       "      <td>2</td>\n",
       "      <td>3</td>\n",
       "      <td>7</td>\n",
       "      <td>15.0</td>\n",
       "      <td>True</td>\n",
       "      <td>196</td>\n",
       "      <td>1</td>\n",
       "      <td>1</td>\n",
       "      <td>Soda</td>\n",
       "      <td>77</td>\n",
       "      <td>7</td>\n",
       "      <td>9.0</td>\n",
       "      <td>Mid</td>\n",
       "      <td>Regularly busy</td>\n",
       "      <td>Slowest days</td>\n",
       "      <td>Average</td>\n",
       "      <td>10</td>\n",
       "      <td>New customer</td>\n",
       "      <td>6.367188</td>\n",
       "      <td>Low</td>\n",
       "      <td>20.5</td>\n",
       "      <td>Low</td>\n",
       "      <td>Female</td>\n",
       "      <td>Alabama</td>\n",
       "      <td>31</td>\n",
       "      <td>2/17/2019</td>\n",
       "      <td>3</td>\n",
       "      <td>married</td>\n",
       "      <td>40423</td>\n",
       "      <td>both</td>\n",
       "      <td>South</td>\n",
       "      <td>Active</td>\n",
       "    </tr>\n",
       "    <tr>\n",
       "      <th>2</th>\n",
       "      <td>473747</td>\n",
       "      <td>1</td>\n",
       "      <td>3</td>\n",
       "      <td>3</td>\n",
       "      <td>12</td>\n",
       "      <td>21.0</td>\n",
       "      <td>True</td>\n",
       "      <td>196</td>\n",
       "      <td>1</td>\n",
       "      <td>1</td>\n",
       "      <td>Soda</td>\n",
       "      <td>77</td>\n",
       "      <td>7</td>\n",
       "      <td>9.0</td>\n",
       "      <td>Mid</td>\n",
       "      <td>Regularly busy</td>\n",
       "      <td>Slowest days</td>\n",
       "      <td>Busy</td>\n",
       "      <td>10</td>\n",
       "      <td>New customer</td>\n",
       "      <td>6.367188</td>\n",
       "      <td>Low</td>\n",
       "      <td>20.5</td>\n",
       "      <td>Low</td>\n",
       "      <td>Female</td>\n",
       "      <td>Alabama</td>\n",
       "      <td>31</td>\n",
       "      <td>2/17/2019</td>\n",
       "      <td>3</td>\n",
       "      <td>married</td>\n",
       "      <td>40423</td>\n",
       "      <td>both</td>\n",
       "      <td>South</td>\n",
       "      <td>Active</td>\n",
       "    </tr>\n",
       "    <tr>\n",
       "      <th>3</th>\n",
       "      <td>2254736</td>\n",
       "      <td>1</td>\n",
       "      <td>4</td>\n",
       "      <td>4</td>\n",
       "      <td>7</td>\n",
       "      <td>29.0</td>\n",
       "      <td>True</td>\n",
       "      <td>196</td>\n",
       "      <td>1</td>\n",
       "      <td>1</td>\n",
       "      <td>Soda</td>\n",
       "      <td>77</td>\n",
       "      <td>7</td>\n",
       "      <td>9.0</td>\n",
       "      <td>Mid</td>\n",
       "      <td>Least busy</td>\n",
       "      <td>Slowest days</td>\n",
       "      <td>Average</td>\n",
       "      <td>10</td>\n",
       "      <td>New customer</td>\n",
       "      <td>6.367188</td>\n",
       "      <td>Low</td>\n",
       "      <td>20.5</td>\n",
       "      <td>Low</td>\n",
       "      <td>Female</td>\n",
       "      <td>Alabama</td>\n",
       "      <td>31</td>\n",
       "      <td>2/17/2019</td>\n",
       "      <td>3</td>\n",
       "      <td>married</td>\n",
       "      <td>40423</td>\n",
       "      <td>both</td>\n",
       "      <td>South</td>\n",
       "      <td>Active</td>\n",
       "    </tr>\n",
       "    <tr>\n",
       "      <th>4</th>\n",
       "      <td>431534</td>\n",
       "      <td>1</td>\n",
       "      <td>5</td>\n",
       "      <td>4</td>\n",
       "      <td>15</td>\n",
       "      <td>28.0</td>\n",
       "      <td>True</td>\n",
       "      <td>196</td>\n",
       "      <td>1</td>\n",
       "      <td>1</td>\n",
       "      <td>Soda</td>\n",
       "      <td>77</td>\n",
       "      <td>7</td>\n",
       "      <td>9.0</td>\n",
       "      <td>Mid</td>\n",
       "      <td>Least busy</td>\n",
       "      <td>Slowest days</td>\n",
       "      <td>Busy</td>\n",
       "      <td>10</td>\n",
       "      <td>New customer</td>\n",
       "      <td>6.367188</td>\n",
       "      <td>Low</td>\n",
       "      <td>20.5</td>\n",
       "      <td>Low</td>\n",
       "      <td>Female</td>\n",
       "      <td>Alabama</td>\n",
       "      <td>31</td>\n",
       "      <td>2/17/2019</td>\n",
       "      <td>3</td>\n",
       "      <td>married</td>\n",
       "      <td>40423</td>\n",
       "      <td>both</td>\n",
       "      <td>South</td>\n",
       "      <td>Active</td>\n",
       "    </tr>\n",
       "  </tbody>\n",
       "</table>\n",
       "</div>"
      ],
      "text/plain": [
       "   order_id  user_id  order_number  orders_day_of_week  order_hour_of_day  \\\n",
       "0   2539329        1             1                   2                  8   \n",
       "1   2398795        1             2                   3                  7   \n",
       "2    473747        1             3                   3                 12   \n",
       "3   2254736        1             4                   4                  7   \n",
       "4    431534        1             5                   4                 15   \n",
       "\n",
       "   days_since_user_last_ordered  Repeat_orders  product_id  add_to_cart_order  \\\n",
       "0                           NaN          False         196                  1   \n",
       "1                          15.0           True         196                  1   \n",
       "2                          21.0           True         196                  1   \n",
       "3                          29.0           True         196                  1   \n",
       "4                          28.0           True         196                  1   \n",
       "\n",
       "   reordered product_name  aisle_id  department_id  prices price_range_loc  \\\n",
       "0          0         Soda        77              7     9.0             Mid   \n",
       "1          1         Soda        77              7     9.0             Mid   \n",
       "2          1         Soda        77              7     9.0             Mid   \n",
       "3          1         Soda        77              7     9.0             Mid   \n",
       "4          1         Soda        77              7     9.0             Mid   \n",
       "\n",
       "      busiest_day  busiest_days busiest_hour  max_order  loyalty_flag  \\\n",
       "0  Regularly busy  Regular days      Average         10  New customer   \n",
       "1  Regularly busy  Slowest days      Average         10  New customer   \n",
       "2  Regularly busy  Slowest days         Busy         10  New customer   \n",
       "3      Least busy  Slowest days      Average         10  New customer   \n",
       "4      Least busy  Slowest days         Busy         10  New customer   \n",
       "\n",
       "   mean_price spend_flag  median_freq order_freq_flag  gender    state  age  \\\n",
       "0    6.367188        Low         20.5             Low  Female  Alabama   31   \n",
       "1    6.367188        Low         20.5             Low  Female  Alabama   31   \n",
       "2    6.367188        Low         20.5             Low  Female  Alabama   31   \n",
       "3    6.367188        Low         20.5             Low  Female  Alabama   31   \n",
       "4    6.367188        Low         20.5             Low  Female  Alabama   31   \n",
       "\n",
       "  date_joined  n_dependants fam_status  income _merge region exclusion_flag  \n",
       "0   2/17/2019             3    married   40423   both  South         Active  \n",
       "1   2/17/2019             3    married   40423   both  South         Active  \n",
       "2   2/17/2019             3    married   40423   both  South         Active  \n",
       "3   2/17/2019             3    married   40423   both  South         Active  \n",
       "4   2/17/2019             3    married   40423   both  South         Active  "
      ]
     },
     "execution_count": 6,
     "metadata": {},
     "output_type": "execute_result"
    }
   ],
   "source": [
    "ords_active_only.head()"
   ]
  },
  {
   "cell_type": "markdown",
   "id": "e7942bb1",
   "metadata": {},
   "source": [
    "## Creating profiling variables"
   ]
  },
  {
   "cell_type": "markdown",
   "id": "28da76e6",
   "metadata": {},
   "source": [
    "#### Pets (dept_id)\n",
    "I think this could be accomplished with fewer intermediaries, but not worth spending extra time on right now"
   ]
  },
  {
   "cell_type": "code",
   "execution_count": 7,
   "id": "e9a44226",
   "metadata": {},
   "outputs": [],
   "source": [
    "# Create a pet owner flag column in the orders table to extract User IDs\n",
    "# This column will be updated later on the customer level within orders\n",
    "\n",
    "ords_active_only.loc[(ords_active_only['department_id'] == 8), 'pet_owner'] = 1 \n",
    "ords_active_only['pet_owner'].fillna(0, inplace= True)"
   ]
  },
  {
   "cell_type": "code",
   "execution_count": 8,
   "id": "5faa7814",
   "metadata": {},
   "outputs": [
    {
     "data": {
      "text/plain": [
       "0.0    30871504\n",
       "1.0       93060\n",
       "Name: pet_owner, dtype: int64"
      ]
     },
     "execution_count": 8,
     "metadata": {},
     "output_type": "execute_result"
    }
   ],
   "source": [
    "ords_active_only['pet_owner'].value_counts()"
   ]
  },
  {
   "cell_type": "code",
   "execution_count": 13,
   "id": "adce0e23",
   "metadata": {},
   "outputs": [],
   "source": [
    "# Create a new table of user IDs w/ pet flag, to use updating our main orders table\n",
    "pet_owners = ords_active_only.groupby('user_id').agg({'pet_owner': ['max']})"
   ]
  },
  {
   "cell_type": "code",
   "execution_count": 10,
   "id": "07dc40a8",
   "metadata": {},
   "outputs": [],
   "source": [
    "# Create a table of customers with order count and total spend\n",
    "cust = ords_active_only.groupby('user_id').agg({'order_id': ['count'], 'prices': ['sum']})"
   ]
  },
  {
   "cell_type": "code",
   "execution_count": 11,
   "id": "af7e1f90",
   "metadata": {},
   "outputs": [],
   "source": [
    "# Merge pet owner flag into customer table\n",
    "cust = cust.merge(pet_owners, on = 'user_id', how = 'left')"
   ]
  },
  {
   "cell_type": "code",
   "execution_count": 15,
   "id": "5a959b86",
   "metadata": {},
   "outputs": [],
   "source": [
    "# Trim non-pet owners out of the customer pet owners df\n",
    "cust_pets = cust.loc[cust['pet_owner'].values > 0]"
   ]
  },
  {
   "cell_type": "code",
   "execution_count": 16,
   "id": "2bd9f46f",
   "metadata": {},
   "outputs": [],
   "source": [
    "# Add the proper flag to all pet owning user IDs in the main orders table\n",
    "ords_active_only['pet_owner'] = ords_active_only['user_id'].isin(cust_pets.index)"
   ]
  },
  {
   "cell_type": "code",
   "execution_count": 18,
   "id": "a85ae1a6",
   "metadata": {
    "scrolled": false
   },
   "outputs": [
    {
     "data": {
      "text/plain": [
       "False    27513213\n",
       "True      3451351\n",
       "Name: pet_owner, dtype: int64"
      ]
     },
     "execution_count": 18,
     "metadata": {},
     "output_type": "execute_result"
    }
   ],
   "source": [
    "# Check outcome--it appears normal\n",
    "ords_active_only['pet_owner'].value_counts()"
   ]
  },
  {
   "cell_type": "code",
   "execution_count": 28,
   "id": "b9cb6d89",
   "metadata": {},
   "outputs": [],
   "source": [
    "# Finally, replace the boolean values with string for later concatenation\n",
    "ords_active_only.loc[ords_active_only['pet_owner'] == True, 'pet_owner'] = 'pets'\n",
    "ords_active_only.loc[ords_active_only['pet_owner'] == False, 'pet_owner'] = 'no pets'"
   ]
  },
  {
   "cell_type": "markdown",
   "id": "a6b52fef",
   "metadata": {},
   "source": [
    "#### Age"
   ]
  },
  {
   "cell_type": "code",
   "execution_count": 19,
   "id": "500138a9",
   "metadata": {},
   "outputs": [],
   "source": [
    "# Label age groups with flag\n",
    "ords_active_only.loc[ords_active_only['age'] < 30, 'age_group'] = 'Young Adult'\n",
    "ords_active_only.loc[(ords_active_only['age'] >= 30) & (ords_active_only['age'] <60), 'age_group'] = 'Adult'\n",
    "ords_active_only.loc[ords_active_only['age'] >= 60, 'age_group'] = 'Senior'"
   ]
  },
  {
   "cell_type": "code",
   "execution_count": 21,
   "id": "6f38b663",
   "metadata": {},
   "outputs": [
    {
     "data": {
      "text/plain": [
       "Adult          14572457\n",
       "Senior         10574504\n",
       "Young Adult     5817603\n",
       "Name: age_group, dtype: int64"
      ]
     },
     "execution_count": 21,
     "metadata": {},
     "output_type": "execute_result"
    }
   ],
   "source": [
    "# Check for any NaN values\n",
    "ords_active_only['age_group'].value_counts(dropna = False)"
   ]
  },
  {
   "cell_type": "markdown",
   "id": "e9bf70bb",
   "metadata": {},
   "source": [
    "#### Income"
   ]
  },
  {
   "cell_type": "code",
   "execution_count": 24,
   "id": "ad4e61c0",
   "metadata": {},
   "outputs": [],
   "source": [
    "# Label income groups with flag\n",
    "ords_active_only.loc[ords_active_only['income'] < 30000, 'income_group'] = 'low income'\n",
    "ords_active_only.loc[(ords_active_only['income'] >= 30000) & (ords_active_only['income'] < 125000),\n",
    "                     'income_group'] = 'mid income'\n",
    "ords_active_only.loc[ords_active_only['income'] >= 125000, 'income_group'] = 'high income'"
   ]
  },
  {
   "cell_type": "code",
   "execution_count": 25,
   "id": "2090cef6",
   "metadata": {},
   "outputs": [
    {
     "data": {
      "text/plain": [
       "mid income     22492650\n",
       "high income     8278044\n",
       "low income       193870\n",
       "Name: income_group, dtype: int64"
      ]
     },
     "execution_count": 25,
     "metadata": {},
     "output_type": "execute_result"
    }
   ],
   "source": [
    "ords_active_only['income_group'].value_counts(dropna = False)"
   ]
  },
  {
   "cell_type": "markdown",
   "id": "5050939d",
   "metadata": {},
   "source": [
    "#### Dependents"
   ]
  },
  {
   "cell_type": "code",
   "execution_count": 26,
   "id": "5b6566e9",
   "metadata": {},
   "outputs": [],
   "source": [
    "# Create parent/non-parent flag\n",
    "ords_active_only.loc[ords_active_only['n_dependants'] > 0, 'family_size'] = 'parent'\n",
    "ords_active_only.loc[ords_active_only['n_dependants'] < 1, 'family_size'] = 'non-parent'"
   ]
  },
  {
   "cell_type": "code",
   "execution_count": 27,
   "id": "8dcb9a78",
   "metadata": {},
   "outputs": [
    {
     "data": {
      "text/plain": [
       "parent        23224883\n",
       "non-parent     7739681\n",
       "Name: family_size, dtype: int64"
      ]
     },
     "execution_count": 27,
     "metadata": {},
     "output_type": "execute_result"
    }
   ],
   "source": [
    "ords_active_only['family_size'].value_counts(dropna = False)"
   ]
  },
  {
   "cell_type": "markdown",
   "id": "147b17c4",
   "metadata": {},
   "source": [
    "### Create customer profiles"
   ]
  },
  {
   "cell_type": "code",
   "execution_count": 30,
   "id": "a510a638",
   "metadata": {},
   "outputs": [],
   "source": [
    "# Define a space variable for readability \n",
    "a = ' '"
   ]
  },
  {
   "cell_type": "code",
   "execution_count": 81,
   "id": "7dca0e20",
   "metadata": {},
   "outputs": [],
   "source": [
    "# Add flag columns together as completed profiles\n",
    "ords_active_only['customer_profile'] = ords_active_only['age_group'] + a + ords_active_only['income_group'] +\\\n",
    "a + ords_active_only['family_size']"
   ]
  },
  {
   "cell_type": "code",
   "execution_count": 82,
   "id": "e54fa801",
   "metadata": {
    "scrolled": true
   },
   "outputs": [
    {
     "data": {
      "text/plain": [
       "Adult mid income parent               7982831\n",
       "Senior mid income parent              4668057\n",
       "Young Adult mid income parent         4250920\n",
       "Senior high income parent             3252833\n",
       "Adult high income parent              2873726\n",
       "Adult mid income non-parent           2637256\n",
       "Senior mid income non-parent          1545456\n",
       "Young Adult mid income non-parent     1408130\n",
       "Senior high income non-parent         1097511\n",
       "Adult high income non-parent           984998\n",
       "Adult low income parent                 69108\n",
       "Young Adult low income parent           64497\n",
       "Young Adult high income parent          54568\n",
       "Young Adult low income non-parent       25080\n",
       "Adult low income non-parent             24538\n",
       "Young Adult high income non-parent      14408\n",
       "Senior low income parent                 8343\n",
       "Senior low income non-parent             2304\n",
       "Name: customer_profile, dtype: int64"
      ]
     },
     "execution_count": 82,
     "metadata": {},
     "output_type": "execute_result"
    }
   ],
   "source": [
    "# View profile quantity IN TERMS OF ORDERS\n",
    "ords_active_only['customer_profile'].value_counts()"
   ]
  },
  {
   "cell_type": "code",
   "execution_count": 85,
   "id": "260a0c6f",
   "metadata": {},
   "outputs": [
    {
     "data": {
      "text/plain": [
       "customer_profile\n",
       "Adult mid income parent               7982831\n",
       "Senior mid income parent              4668057\n",
       "Young Adult mid income parent         4250920\n",
       "Senior high income parent             3252833\n",
       "Adult high income parent              2873726\n",
       "Adult mid income non-parent           2637256\n",
       "Senior mid income non-parent          1545456\n",
       "Young Adult mid income non-parent     1408130\n",
       "Senior high income non-parent         1097511\n",
       "Adult high income non-parent           984998\n",
       "Adult low income parent                 69108\n",
       "Young Adult low income parent           64497\n",
       "Young Adult high income parent          54568\n",
       "Young Adult low income non-parent       25080\n",
       "Adult low income non-parent             24538\n",
       "Young Adult high income non-parent      14408\n",
       "Senior low income parent                 8343\n",
       "Senior low income non-parent             2304\n",
       "Name: user_id, dtype: int64"
      ]
     },
     "execution_count": 85,
     "metadata": {},
     "output_type": "execute_result"
    }
   ],
   "source": [
    "# View profile quantity IN TERMS OF USERIDS\n",
    "# Group by userid, count the userids in each profile, sort in desc order\n",
    "(ords_active_only.groupby(ords_active_only['customer_profile'])['user_id'].count()).sort_values\\\n",
    "(ascending = False)"
   ]
  },
  {
   "cell_type": "markdown",
   "id": "00a71bf9",
   "metadata": {},
   "source": [
    "It appears that both methods of measuring profile quantity agree! Which is nice, since I don't have to decide which would be the more relevant way of determining profile importance"
   ]
  },
  {
   "cell_type": "markdown",
   "id": "47114aef",
   "metadata": {},
   "source": [
    "#### Update remaining profiles to Default value"
   ]
  },
  {
   "cell_type": "code",
   "execution_count": 70,
   "id": "a9432db9",
   "metadata": {},
   "outputs": [],
   "source": [
    "# Create a vector to pass into filter to assign default value\n",
    "cats = ords_active_only['customer_profile'].value_counts().loc[ords_active_only['customer_profile']\n",
    "                                                               .value_counts() <2000000].index"
   ]
  },
  {
   "cell_type": "code",
   "execution_count": 71,
   "id": "029f1748",
   "metadata": {},
   "outputs": [
    {
     "data": {
      "text/plain": [
       "Index(['Senior mid income non-parent', 'Young Adult mid income non-parent',\n",
       "       'Senior high income non-parent', 'Adult high income non-parent',\n",
       "       'Adult low income parent', 'Young Adult low income parent',\n",
       "       'Young Adult high income parent', 'Young Adult low income non-parent',\n",
       "       'Adult low income non-parent', 'Young Adult high income non-parent',\n",
       "       'Senior low income parent', 'Senior low income non-parent'],\n",
       "      dtype='object')"
      ]
     },
     "execution_count": 71,
     "metadata": {},
     "output_type": "execute_result"
    }
   ],
   "source": [
    "cats"
   ]
  },
  {
   "cell_type": "code",
   "execution_count": 72,
   "id": "e2f8e34e",
   "metadata": {},
   "outputs": [],
   "source": [
    "# Pass vector into a filter, update anything in the vector to default profile (below 2m)\n",
    "ords_active_only.loc[ords_active_only['customer_profile'].isin(cats), 'customer_profile'] = 'Default' "
   ]
  },
  {
   "cell_type": "code",
   "execution_count": 74,
   "id": "75bf59ee",
   "metadata": {},
   "outputs": [
    {
     "data": {
      "text/plain": [
       "Adult mid income parent          7982831\n",
       "Default                          5298941\n",
       "Senior mid income parent         4668057\n",
       "Young Adult mid income parent    4250920\n",
       "Senior high income parent        3252833\n",
       "Adult high income parent         2873726\n",
       "Adult mid income non-parent      2637256\n",
       "Name: customer_profile, dtype: int64"
      ]
     },
     "execution_count": 74,
     "metadata": {},
     "output_type": "execute_result"
    }
   ],
   "source": [
    "# Results\n",
    "ords_active_only['customer_profile'].value_counts(dropna = False)"
   ]
  },
  {
   "cell_type": "markdown",
   "id": "518a032b",
   "metadata": {},
   "source": [
    "#### Descriptive stats - customer profiles"
   ]
  },
  {
   "cell_type": "code",
   "execution_count": 78,
   "id": "2a4843c7",
   "metadata": {
    "scrolled": false
   },
   "outputs": [
    {
     "data": {
      "text/html": [
       "<div>\n",
       "<style scoped>\n",
       "    .dataframe tbody tr th:only-of-type {\n",
       "        vertical-align: middle;\n",
       "    }\n",
       "\n",
       "    .dataframe tbody tr th {\n",
       "        vertical-align: top;\n",
       "    }\n",
       "\n",
       "    .dataframe thead tr th {\n",
       "        text-align: left;\n",
       "    }\n",
       "\n",
       "    .dataframe thead tr:last-of-type th {\n",
       "        text-align: right;\n",
       "    }\n",
       "</style>\n",
       "<table border=\"1\" class=\"dataframe\">\n",
       "  <thead>\n",
       "    <tr>\n",
       "      <th></th>\n",
       "      <th colspan=\"4\" halign=\"left\">prices</th>\n",
       "    </tr>\n",
       "    <tr>\n",
       "      <th></th>\n",
       "      <th>mean</th>\n",
       "      <th>median</th>\n",
       "      <th>min</th>\n",
       "      <th>max</th>\n",
       "    </tr>\n",
       "    <tr>\n",
       "      <th>customer_profile</th>\n",
       "      <th></th>\n",
       "      <th></th>\n",
       "      <th></th>\n",
       "      <th></th>\n",
       "    </tr>\n",
       "  </thead>\n",
       "  <tbody>\n",
       "    <tr>\n",
       "      <th>Adult high income parent</th>\n",
       "      <td>7.955380</td>\n",
       "      <td>7.6</td>\n",
       "      <td>1.0</td>\n",
       "      <td>25.0</td>\n",
       "    </tr>\n",
       "    <tr>\n",
       "      <th>Adult mid income non-parent</th>\n",
       "      <td>7.744068</td>\n",
       "      <td>7.3</td>\n",
       "      <td>1.0</td>\n",
       "      <td>25.0</td>\n",
       "    </tr>\n",
       "    <tr>\n",
       "      <th>Adult mid income parent</th>\n",
       "      <td>7.743009</td>\n",
       "      <td>7.3</td>\n",
       "      <td>1.0</td>\n",
       "      <td>25.0</td>\n",
       "    </tr>\n",
       "    <tr>\n",
       "      <th>Default</th>\n",
       "      <td>7.778623</td>\n",
       "      <td>7.4</td>\n",
       "      <td>1.0</td>\n",
       "      <td>25.0</td>\n",
       "    </tr>\n",
       "    <tr>\n",
       "      <th>Senior high income parent</th>\n",
       "      <td>7.956097</td>\n",
       "      <td>7.7</td>\n",
       "      <td>1.0</td>\n",
       "      <td>25.0</td>\n",
       "    </tr>\n",
       "    <tr>\n",
       "      <th>Senior mid income parent</th>\n",
       "      <td>7.682342</td>\n",
       "      <td>7.3</td>\n",
       "      <td>1.0</td>\n",
       "      <td>25.0</td>\n",
       "    </tr>\n",
       "    <tr>\n",
       "      <th>Young Adult mid income parent</th>\n",
       "      <td>7.804634</td>\n",
       "      <td>7.4</td>\n",
       "      <td>1.0</td>\n",
       "      <td>25.0</td>\n",
       "    </tr>\n",
       "  </tbody>\n",
       "</table>\n",
       "</div>"
      ],
      "text/plain": [
       "                                 prices                  \n",
       "                                   mean median  min   max\n",
       "customer_profile                                         \n",
       "Adult high income parent       7.955380    7.6  1.0  25.0\n",
       "Adult mid income non-parent    7.744068    7.3  1.0  25.0\n",
       "Adult mid income parent        7.743009    7.3  1.0  25.0\n",
       "Default                        7.778623    7.4  1.0  25.0\n",
       "Senior high income parent      7.956097    7.7  1.0  25.0\n",
       "Senior mid income parent       7.682342    7.3  1.0  25.0\n",
       "Young Adult mid income parent  7.804634    7.4  1.0  25.0"
      ]
     },
     "execution_count": 78,
     "metadata": {},
     "output_type": "execute_result"
    }
   ],
   "source": [
    "# General order stats per profile group\n",
    "ords_active_only.groupby('customer_profile').agg({'prices': ['mean', 'median', 'min', 'max']})"
   ]
  },
  {
   "cell_type": "code",
   "execution_count": 76,
   "id": "38b3363c",
   "metadata": {
    "scrolled": false
   },
   "outputs": [
    {
     "data": {
      "text/plain": [
       "customer_profile\n",
       "Adult high income parent         4\n",
       "Adult mid income non-parent      4\n",
       "Adult mid income parent          4\n",
       "Default                          4\n",
       "Senior high income parent        4\n",
       "Senior mid income parent         4\n",
       "Young Adult mid income parent    4\n",
       "Name: department_id, dtype: int8"
      ]
     },
     "execution_count": 76,
     "metadata": {},
     "output_type": "execute_result"
    }
   ],
   "source": [
    "# Mode remains the same between all--produce is the most common dept on orders\n",
    "ords_active_only.groupby(['customer_profile'])['department_id'].agg(pd.Series.mode)"
   ]
  },
  {
   "cell_type": "markdown",
   "id": "7a3ed73a",
   "metadata": {},
   "source": [
    "## Export"
   ]
  },
  {
   "cell_type": "code",
   "execution_count": 79,
   "id": "bc770e33",
   "metadata": {},
   "outputs": [],
   "source": [
    "ords_active_only.to_pickle(os.path.join(path, '02 Data', 'Processed', 'ords_active_profiles.pkl'))"
   ]
  }
 ],
 "metadata": {
  "kernelspec": {
   "display_name": "Python 3 (ipykernel)",
   "language": "python",
   "name": "python3"
  },
  "language_info": {
   "codemirror_mode": {
    "name": "ipython",
    "version": 3
   },
   "file_extension": ".py",
   "mimetype": "text/x-python",
   "name": "python",
   "nbconvert_exporter": "python",
   "pygments_lexer": "ipython3",
   "version": "3.9.7"
  }
 },
 "nbformat": 4,
 "nbformat_minor": 5
}
